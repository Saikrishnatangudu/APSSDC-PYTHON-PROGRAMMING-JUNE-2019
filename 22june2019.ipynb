{
 "cells": [
  {
   "cell_type": "markdown",
   "metadata": {},
   "source": [
    "### Day objective\n",
    "- File handeling\n",
    "        - Basic file data processing\n",
    "                - acessing and modifying file data\n",
    "        - character count\n",
    "        - line count\n",
    "        - file size\n",
    "        - word count\n",
    "        - unique word count\n",
    "        "
   ]
  },
  {
   "cell_type": "code",
   "execution_count": null,
   "metadata": {},
   "outputs": [],
   "source": [
    "#Read a file - file should exists\n",
    "#Write to a file - existing(append) or new file\n",
    "\n",
    "\n",
    "\n",
    "\n",
    "\n",
    "\n"
   ]
  },
  {
   "cell_type": "code",
   "execution_count": 1,
   "metadata": {},
   "outputs": [
    {
     "name": "stdout",
     "output_type": "stream",
     "text": [
      "datafiles/data.txt\n",
      "<_io.TextIOWrapper name='datafiles/data.txt' mode='r' encoding='cp1252'>\n",
      "12\n"
     ]
    }
   ],
   "source": [
    "k=input()\n",
    "count=0\n",
    "f=open(k,\"r\")\n",
    "print(f)\n",
    "for i in f:\n",
    "    #print(type(i))\n",
    "    count=count+1\n",
    "print(count)\n"
   ]
  },
  {
   "cell_type": "code",
   "execution_count": 15,
   "metadata": {},
   "outputs": [
    {
     "name": "stdout",
     "output_type": "stream",
     "text": [
      "datafiles/data.txt\n",
      "190\n"
     ]
    }
   ],
   "source": [
    "k=input()\n",
    "count=0\n",
    "f=open(k,\"r\")\n",
    "p=f.read()\n",
    "for i in p:\n",
    "    #print(type(i))\n",
    "    count=count+1\n",
    "print(count)\n"
   ]
  },
  {
   "cell_type": "code",
   "execution_count": 43,
   "metadata": {},
   "outputs": [
    {
     "name": "stdout",
     "output_type": "stream",
     "text": [
      "datafiles/data.txt\n"
     ]
    },
    {
     "data": {
      "text/plain": [
       "26"
      ]
     },
     "execution_count": 43,
     "metadata": {},
     "output_type": "execute_result"
    }
   ],
   "source": [
    "def word():\n",
    "    \n",
    "    k=input()\n",
    "    count=0\n",
    "    f=open(k,\"r\")\n",
    "    p=f.read().split()\n",
    "    for i in p:\n",
    "        #print(type(i))\n",
    "        count=count+1\n",
    "    return count\n",
    "word()"
   ]
  },
  {
   "cell_type": "code",
   "execution_count": 17,
   "metadata": {},
   "outputs": [
    {
     "name": "stdout",
     "output_type": "stream",
     "text": [
      "os.stat_result(st_mode=33206, st_ino=844424930442739, st_dev=3625488153, st_nlink=1, st_uid=0, st_gid=0, st_size=190, st_atime=1561124165, st_mtime=1561182791, st_ctime=1561124165)\n"
     ]
    }
   ],
   "source": [
    "import os\n",
    "statinfo = os.stat('datafiles/data.txt')\n",
    "print(statinfo)\n"
   ]
  },
  {
   "cell_type": "code",
   "execution_count": 56,
   "metadata": {},
   "outputs": [
    {
     "name": "stdout",
     "output_type": "stream",
     "text": [
      "{'line3', 'krishna', 'line2', 'ihyuyuyub', 'sai', 'hhubyubuyu', 'niujiuh', 'hiuhyuhyu', 'jkj', 'hbjhbsuabu', 'bhbhjbhubh', 'line1', 'jojds', 'ihhuhubuy', 'huyhuyyu', 'hjbubuyb', 'tangudu'}\n",
      "17\n"
     ]
    }
   ],
   "source": [
    "#k=input(\"file name with path\")\n",
    "#l=input(\" enter unique word \")\n",
    "count=0\n",
    "f=open(\"datafiles/data.txt\",\"r\")\n",
    "p=f.read().split()\n",
    "#j=list(dict.fromkeys(p))\n",
    "#print(j)\n",
    "#print(len(j))\n",
    "k=set(p)\n",
    "print(k)\n",
    "print(len(k))\n",
    "        \n",
    "\n"
   ]
  },
  {
   "cell_type": "code",
   "execution_count": null,
   "metadata": {},
   "outputs": [],
   "source": []
  }
 ],
 "metadata": {
  "kernelspec": {
   "display_name": "Python 3",
   "language": "python",
   "name": "python3"
  },
  "language_info": {
   "codemirror_mode": {
    "name": "ipython",
    "version": 3
   },
   "file_extension": ".py",
   "mimetype": "text/x-python",
   "name": "python",
   "nbconvert_exporter": "python",
   "pygments_lexer": "ipython3",
   "version": "3.7.3"
  }
 },
 "nbformat": 4,
 "nbformat_minor": 2
}
