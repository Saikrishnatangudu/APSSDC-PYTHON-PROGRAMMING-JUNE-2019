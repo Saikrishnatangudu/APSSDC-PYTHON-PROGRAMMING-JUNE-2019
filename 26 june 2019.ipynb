{
 "cells": [
  {
   "cell_type": "code",
   "execution_count": 1,
   "metadata": {},
   "outputs": [],
   "source": [
    "import re\n",
    "# Function to check if contact already exists\n",
    "def contactexists(name):\n",
    "    filename = 'dataFiles/contacts.txt'\n",
    "    with open(filename, 'r') as f:\n",
    "        filedata = f.read()\n",
    "        pattern = name+','\n",
    "    return re.search(pattern, filedata)\n",
    "            \n"
   ]
  },
  {
   "cell_type": "code",
   "execution_count": null,
   "metadata": {},
   "outputs": [],
   "source": [
    "#Function to add contact text file\n",
    "from packages.validaters import phonenumbervalidator as pnv, emailvalidator as ev\n",
    "\n",
    "def addcontact(name,phone,email):  \n",
    "    #store data as name phone email in the contact\n",
    "    filename=\"datafiles/contacts.txt\"\n",
    "    if not contactexists(name):\n",
    "        if pnv(phone) and ev(email):\n",
    "            with open (filename,\"a\") as f:\n",
    "                line = name+','+str(phone)+','+email + '\\n'\n",
    "                f.write(line)\n",
    "            print(name,'added to contacts')\n",
    "        else:\n",
    "            print('invalid phone number or invalid emailid')\n",
    "            return\n",
    "    else:\n",
    "        print(name,'already exits')\n",
    "    return    \n",
    "#addcontact(\"name2\",9542826828,\"sai_52@gmail.com\")\n"
   ]
  },
  {
   "cell_type": "code",
   "execution_count": 1,
   "metadata": {},
   "outputs": [
    {
     "ename": "NameError",
     "evalue": "name 'contactexists' is not defined",
     "output_type": "error",
     "traceback": [
      "\u001b[1;31m---------------------------------------------------------------------------\u001b[0m",
      "\u001b[1;31mNameError\u001b[0m                                 Traceback (most recent call last)",
      "\u001b[1;32m<ipython-input-1-fb38dde76604>\u001b[0m in \u001b[0;36m<module>\u001b[1;34m\u001b[0m\n\u001b[0;32m      9\u001b[0m             \u001b[0mlist\u001b[0m\u001b[1;33m=\u001b[0m\u001b[0mre\u001b[0m\u001b[1;33m.\u001b[0m\u001b[0msplit\u001b[0m\u001b[1;33m(\u001b[0m\u001b[0mp\u001b[0m\u001b[1;33m,\u001b[0m\u001b[0mfd\u001b[0m\u001b[1;33m)\u001b[0m\u001b[1;33m\u001b[0m\u001b[1;33m\u001b[0m\u001b[0m\n\u001b[0;32m     10\u001b[0m             \u001b[0mprint\u001b[0m\u001b[1;33m(\u001b[0m\u001b[0mlist\u001b[0m\u001b[1;33m)\u001b[0m\u001b[1;33m\u001b[0m\u001b[1;33m\u001b[0m\u001b[0m\n\u001b[1;32m---> 11\u001b[1;33m \u001b[0mprint\u001b[0m\u001b[1;33m(\u001b[0m\u001b[0msearchcontacts\u001b[0m\u001b[1;33m(\u001b[0m\u001b[1;34m'name2'\u001b[0m\u001b[1;33m)\u001b[0m\u001b[1;33m)\u001b[0m\u001b[1;33m\u001b[0m\u001b[1;33m\u001b[0m\u001b[0m\n\u001b[0m\u001b[0;32m     12\u001b[0m \u001b[1;33m\u001b[0m\u001b[0m\n",
      "\u001b[1;32m<ipython-input-1-fb38dde76604>\u001b[0m in \u001b[0;36msearchcontacts\u001b[1;34m(name)\u001b[0m\n\u001b[0;32m      3\u001b[0m \u001b[1;32mdef\u001b[0m \u001b[0msearchcontacts\u001b[0m\u001b[1;33m(\u001b[0m\u001b[0mname\u001b[0m\u001b[1;33m)\u001b[0m\u001b[1;33m:\u001b[0m\u001b[1;33m\u001b[0m\u001b[1;33m\u001b[0m\u001b[0m\n\u001b[0;32m      4\u001b[0m     \u001b[0mfilepath\u001b[0m\u001b[1;33m=\u001b[0m\u001b[1;34m\"datafiles/contacts.txt\"\u001b[0m\u001b[1;33m\u001b[0m\u001b[1;33m\u001b[0m\u001b[0m\n\u001b[1;32m----> 5\u001b[1;33m     \u001b[1;32mif\u001b[0m \u001b[0mcontactexists\u001b[0m\u001b[1;33m(\u001b[0m\u001b[0mname\u001b[0m\u001b[1;33m)\u001b[0m\u001b[1;33m:\u001b[0m\u001b[1;33m\u001b[0m\u001b[1;33m\u001b[0m\u001b[0m\n\u001b[0m\u001b[0;32m      6\u001b[0m         \u001b[1;32mwith\u001b[0m \u001b[0mopen\u001b[0m\u001b[1;33m(\u001b[0m\u001b[0mfilepath\u001b[0m\u001b[1;33m,\u001b[0m\u001b[1;34m'r'\u001b[0m\u001b[1;33m)\u001b[0m \u001b[1;32mas\u001b[0m \u001b[0mf\u001b[0m\u001b[1;33m:\u001b[0m\u001b[1;33m\u001b[0m\u001b[1;33m\u001b[0m\u001b[0m\n\u001b[0;32m      7\u001b[0m             \u001b[0mfd\u001b[0m\u001b[1;33m=\u001b[0m\u001b[0mf\u001b[0m\u001b[1;33m.\u001b[0m\u001b[0mread\u001b[0m\u001b[1;33m(\u001b[0m\u001b[1;33m)\u001b[0m\u001b[1;33m\u001b[0m\u001b[1;33m\u001b[0m\u001b[0m\n",
      "\u001b[1;31mNameError\u001b[0m: name 'contactexists' is not defined"
     ]
    }
   ],
   "source": [
    "#search contacts\n",
    "import re\n",
    "def searchcontacts(name):\n",
    "    filepath=\"datafiles/contacts.txt\"\n",
    "    if contactexists(name):\n",
    "        with open(filepath,'r') as f:\n",
    "            fd=f.read()\n",
    "            p='[\\n]'\n",
    "            list=re.split(p,fd)\n",
    "            print(list)\n",
    "print(searchcontacts('name2'))\n",
    "            "
   ]
  },
  {
   "cell_type": "code",
   "execution_count": null,
   "metadata": {},
   "outputs": [],
   "source": []
  },
  {
   "cell_type": "code",
   "execution_count": null,
   "metadata": {},
   "outputs": [],
   "source": [
    "# Kth Largest frequency\n",
    "#largest number in the list\n",
    "#kth largest number in a list\n",
    "#Element with highest frequency\n",
    "#second highest freequency\n",
    "#kth highest frequency\n",
    "\n",
    "\n",
    "\n"
   ]
  },
  {
   "cell_type": "code",
   "execution_count": 7,
   "metadata": {},
   "outputs": [
    {
     "data": {
      "text/plain": [
       "-1"
      ]
     },
     "execution_count": 7,
     "metadata": {},
     "output_type": "execute_result"
    }
   ],
   "source": [
    "# Functionfind the second largest number in a list\n",
    "def seclar(li,k):\n",
    "#     #connvert the list into a unique list\n",
    "#     unique =list(set(li))\n",
    "#     if unique==li:\n",
    "#         print('guyg')\n",
    "#     else:\n",
    "#         print('tttttttttttt')\n",
    "# seclar([1,3])\n",
    "    unique=[]\n",
    "    for n in li:\n",
    "        if n not in unique:\n",
    "             unique.append(n)\n",
    "        unique =sorted(unique,reverse=True)\n",
    "    if len(unique)>=k:\n",
    "        return unique[len(unique)-1]\n",
    "        #return unique[k-1]\n",
    "    else:\n",
    "        return -1\n",
    "#seclar([1,1,1,6,4,5,55,4,3,2],100)\n",
    "    "
   ]
  },
  {
   "cell_type": "code",
   "execution_count": 2,
   "metadata": {},
   "outputs": [],
   "source": [
    "# Functionfind the second largest number in a list\n",
    "def secsmal(li,k):\n",
    "#     #connvert the list into a unique list\n",
    "#     unique =list(set(li))\n",
    "#     if unique==li:\n",
    "#         print('guyg')\n",
    "#     else:\n",
    "#         print('tttttttttttt')\n",
    "# seclar([1,3])\n",
    "  \n",
    "    unique=[]\n",
    "    for n in li:\n",
    "        if n not in unique:\n",
    "            unique.append(n)\n",
    "    unique =sorted(unique)\n",
    "        #print(unique)\n",
    "        #return unique[len(unique)-1]\n",
    "    if len(unique)>=k:\n",
    "        return unique[k-1]\n",
    "    else:\n",
    "        return -1\n",
    "#seclar([9,8,7,6,5,4,3,2,1,11,0,-1],100)\n",
    "    "
   ]
  },
  {
   "cell_type": "code",
   "execution_count": 104,
   "metadata": {},
   "outputs": [
    {
     "name": "stdout",
     "output_type": "stream",
     "text": [
      "{9: 1, 8: 1, 7: 1, 6: 1, 5: 1, 4: 1, 3: 1, 2: 2, 1: 1, 11: 2}\n",
      "dict_values([1, 1, 1, 1, 1, 1, 1, 2, 1, 2])\n"
     ]
    },
    {
     "data": {
      "text/plain": [
       "2"
      ]
     },
     "execution_count": 104,
     "metadata": {},
     "output_type": "execute_result"
    }
   ],
   "source": [
    "# Element with highest frequency\n",
    "def highfreq(li,mc):\n",
    "    unique=[]\n",
    "    k={}\n",
    "#     for n in li:\n",
    "#         if n not in unique:\n",
    "#             unique.append(n)\n",
    "    for i in li:\n",
    "        k[i]=li.count(i)\n",
    "    print(k)\n",
    "    freq=k.values()\n",
    "    print(freq)\n",
    "    #print(freq)\n",
    "    l=max(freq)\n",
    "    ma=[]\n",
    "    for j in k.items():\n",
    "        #print(j)\n",
    "        if j[1]==l:\n",
    "            ma.append(j[0])\n",
    "    pp=sorted(ma)\n",
    "    return (pp[mc-1])\n",
    "            \n",
    "highfreq([9,8,7,6,5,4,3,2,1,2,11,11],1)\n",
    "            "
   ]
  },
  {
   "cell_type": "code",
   "execution_count": 8,
   "metadata": {},
   "outputs": [
    {
     "name": "stdout",
     "output_type": "stream",
     "text": [
      "{9: 2, 8: 1, 7: 4, 6: 4, 5: 1, 4: 1, 3: 1, 2: 1}\n",
      "dict_values([2, 1, 4, 4, 1, 1, 1, 1])\n",
      "[]\n"
     ]
    },
    {
     "ename": "ValueError",
     "evalue": "min() arg is an empty sequence",
     "output_type": "error",
     "traceback": [
      "\u001b[1;31m---------------------------------------------------------------------------\u001b[0m",
      "\u001b[1;31mValueError\u001b[0m                                Traceback (most recent call last)",
      "\u001b[1;32m<ipython-input-8-9b32301fd87e>\u001b[0m in \u001b[0;36m<module>\u001b[1;34m\u001b[0m\n\u001b[0;32m     22\u001b[0m     \u001b[1;32mreturn\u001b[0m \u001b[0mmin\u001b[0m\u001b[1;33m(\u001b[0m\u001b[0mpp\u001b[0m\u001b[1;33m)\u001b[0m\u001b[1;33m\u001b[0m\u001b[1;33m\u001b[0m\u001b[0m\n\u001b[0;32m     23\u001b[0m \u001b[1;33m\u001b[0m\u001b[0m\n\u001b[1;32m---> 24\u001b[1;33m \u001b[0mhighfreq\u001b[0m\u001b[1;33m(\u001b[0m\u001b[1;33m[\u001b[0m\u001b[1;36m9\u001b[0m\u001b[1;33m,\u001b[0m\u001b[1;36m8\u001b[0m\u001b[1;33m,\u001b[0m\u001b[1;36m7\u001b[0m\u001b[1;33m,\u001b[0m\u001b[1;36m6\u001b[0m\u001b[1;33m,\u001b[0m\u001b[1;36m5\u001b[0m\u001b[1;33m,\u001b[0m\u001b[1;36m4\u001b[0m\u001b[1;33m,\u001b[0m\u001b[1;36m3\u001b[0m\u001b[1;33m,\u001b[0m\u001b[1;36m2\u001b[0m\u001b[1;33m,\u001b[0m\u001b[1;36m9\u001b[0m\u001b[1;33m,\u001b[0m\u001b[1;36m6\u001b[0m\u001b[1;33m,\u001b[0m\u001b[1;36m7\u001b[0m\u001b[1;33m,\u001b[0m\u001b[1;36m7\u001b[0m\u001b[1;33m,\u001b[0m\u001b[1;36m7\u001b[0m\u001b[1;33m,\u001b[0m\u001b[1;36m6\u001b[0m\u001b[1;33m,\u001b[0m\u001b[1;36m6\u001b[0m\u001b[1;33m]\u001b[0m\u001b[1;33m,\u001b[0m\u001b[1;36m66\u001b[0m\u001b[1;33m)\u001b[0m\u001b[1;33m\u001b[0m\u001b[1;33m\u001b[0m\u001b[0m\n\u001b[0m\u001b[0;32m     25\u001b[0m \u001b[1;33m\u001b[0m\u001b[0m\n",
      "\u001b[1;32m<ipython-input-8-9b32301fd87e>\u001b[0m in \u001b[0;36mhighfreq\u001b[1;34m(li, ll)\u001b[0m\n\u001b[0;32m     20\u001b[0m     \u001b[0mpp\u001b[0m\u001b[1;33m=\u001b[0m\u001b[0msorted\u001b[0m\u001b[1;33m(\u001b[0m\u001b[0mma\u001b[0m\u001b[1;33m)\u001b[0m\u001b[1;33m\u001b[0m\u001b[1;33m\u001b[0m\u001b[0m\n\u001b[0;32m     21\u001b[0m     \u001b[0mprint\u001b[0m\u001b[1;33m(\u001b[0m\u001b[0mpp\u001b[0m\u001b[1;33m)\u001b[0m\u001b[1;33m\u001b[0m\u001b[1;33m\u001b[0m\u001b[0m\n\u001b[1;32m---> 22\u001b[1;33m     \u001b[1;32mreturn\u001b[0m \u001b[0mmin\u001b[0m\u001b[1;33m(\u001b[0m\u001b[0mpp\u001b[0m\u001b[1;33m)\u001b[0m\u001b[1;33m\u001b[0m\u001b[1;33m\u001b[0m\u001b[0m\n\u001b[0m\u001b[0;32m     23\u001b[0m \u001b[1;33m\u001b[0m\u001b[0m\n\u001b[0;32m     24\u001b[0m \u001b[0mhighfreq\u001b[0m\u001b[1;33m(\u001b[0m\u001b[1;33m[\u001b[0m\u001b[1;36m9\u001b[0m\u001b[1;33m,\u001b[0m\u001b[1;36m8\u001b[0m\u001b[1;33m,\u001b[0m\u001b[1;36m7\u001b[0m\u001b[1;33m,\u001b[0m\u001b[1;36m6\u001b[0m\u001b[1;33m,\u001b[0m\u001b[1;36m5\u001b[0m\u001b[1;33m,\u001b[0m\u001b[1;36m4\u001b[0m\u001b[1;33m,\u001b[0m\u001b[1;36m3\u001b[0m\u001b[1;33m,\u001b[0m\u001b[1;36m2\u001b[0m\u001b[1;33m,\u001b[0m\u001b[1;36m9\u001b[0m\u001b[1;33m,\u001b[0m\u001b[1;36m6\u001b[0m\u001b[1;33m,\u001b[0m\u001b[1;36m7\u001b[0m\u001b[1;33m,\u001b[0m\u001b[1;36m7\u001b[0m\u001b[1;33m,\u001b[0m\u001b[1;36m7\u001b[0m\u001b[1;33m,\u001b[0m\u001b[1;36m6\u001b[0m\u001b[1;33m,\u001b[0m\u001b[1;36m6\u001b[0m\u001b[1;33m]\u001b[0m\u001b[1;33m,\u001b[0m\u001b[1;36m66\u001b[0m\u001b[1;33m)\u001b[0m\u001b[1;33m\u001b[0m\u001b[1;33m\u001b[0m\u001b[0m\n",
      "\u001b[1;31mValueError\u001b[0m: min() arg is an empty sequence"
     ]
    }
   ],
   "source": [
    "# Element with highest frequency\n",
    "def highfreq(li,ll):\n",
    "    unique=[]\n",
    "    k={}\n",
    "#     for n in li:\n",
    "#         if n not in unique:\n",
    "#             unique.append(n)\n",
    "    for i in li:\n",
    "        k[i]=li.count(i)\n",
    "    print(k)\n",
    "    freq=k.values()\n",
    "    print(freq)\n",
    "    a=seclar(freq,ll)\n",
    "    #l=max(freq)\n",
    "    ma=[]\n",
    "    for j in k.items():\n",
    "        #print(j)\n",
    "        if j[1]==a:\n",
    "            ma.append(j[0])\n",
    "    pp=sorted(ma)\n",
    "    print(pp)\n",
    "    return min(pp)\n",
    "            \n",
    "highfreq([9,8,7,6,5,4,3,2,9,6,7,7,7,6,6],66)\n",
    "            "
   ]
  },
  {
   "cell_type": "code",
   "execution_count": 111,
   "metadata": {},
   "outputs": [
    {
     "name": "stdout",
     "output_type": "stream",
     "text": [
      "f\n"
     ]
    }
   ],
   "source": [
    "l=['a','d','f','b']\n",
    "print(max(l))\n"
   ]
  },
  {
   "cell_type": "code",
   "execution_count": 34,
   "metadata": {},
   "outputs": [
    {
     "name": "stdout",
     "output_type": "stream",
     "text": [
      "[3843, 3743, 3725, 3879, 3818, 3936, 3914, 3731, 3849, 3926, 3776, 3884, 3858, 3774, 3793, 3908, 3832, 3892, 3742, 3864, 3888, 3777, 3959, 3811, 3840, 4038]\n",
      "3731\n",
      "[3795, 3883, 3821, 3836, 3880, 3866, 3769, 3835, 3858, 3886, 3797, 3893, 3820, 3867, 3931, 3870, 3864, 3862, 3960, 3799, 3727, 3890, 3865, 3711]\n",
      "3870\n",
      "[3807, 3751, 3819, 3801, 3874, 3903, 3854, 3866, 3864, 3792, 3861, 3799, 3871, 3747, 3881, 3966, 3784, 3936, 3851, 3925, 3868, 3813, 3707]\n",
      "3854\n",
      "[3714, 3820, 3769, 3848, 3747, 3877, 3819, 3888, 3984, 4016, 3884, 3851, 3970, 3822, 3880, 3894, 3901, 3885, 3738, 3917, 3813, 3831, 3828, 3756, 3824, 3724]\n",
      "3877\n",
      "[3904, 3816, 3826, 3831, 3900, 3772, 3974, 3746, 3878, 3795, 3872, 3882, 3805, 3828, 3887, 3802, 3940, 3907, 3881, 3895, 3890, 3829, 3756, 3750, 3794, 3840]\n",
      "3802\n",
      "[3896, 3835, 3803, 3810, 3801, 3787, 3933, 3862, 3848, 3881, 3853, 3790, 3760, 3805, 3942, 3851, 3928, 3782, 3952, 3799, 3868, 3786, 3838, 3814, 3923]\n",
      "3848\n",
      "[3853, 3811, 3976, 3774, 3877, 3876, 3738, 3794, 3874, 3868, 3779, 3846, 3854, 3910, 3893, 3817, 3958, 3880, 3884, 3787, 3785, 3741, 3927, 3828]\n",
      "3927\n",
      "[3842, 3793, 3849, 3804, 3770, 3947, 3854, 3829, 3835, 3777, 3867, 3889, 3909, 3789, 3866, 3771, 3845, 3868, 3934, 3910, 3859, 3855, 3880, 3752, 3864]\n",
      "3880\n",
      "[3927, 3758, 3842, 3902, 3777, 3917, 3900, 3740, 3822, 3797, 3893, 3881, 3843, 3878, 3885, 3855, 3809, 3768, 3990, 3847, 3862, 3904, 3750, 3788]\n",
      "-1\n",
      "[3857, 3894, 3866, 3810, 3951, 3862, 3779, 3884, 3782, 3848, 3817, 3760, 3952, 3881, 3912, 3806, 3834, 3832, 3833, 3771, 3751, 3766, 3859, 3984, 3892]\n",
      "-1\n"
     ]
    }
   ],
   "source": [
    "# Element with Kth highest frequency\n",
    "def khigh(s,k):\n",
    "    unique={}\n",
    "    for c in s:\n",
    "        if c not in unique:\n",
    "            unique[c]=1\n",
    "        else:\n",
    "            unique[c]+=1\n",
    "    # extract all unique frequencies  in a  list\n",
    "    unifreq=[]\n",
    "    for value in unique.values():\n",
    "        if value not in unifreq:\n",
    "            unifreq.append(value)\n",
    "    print(unifreq)       \n",
    "    unifreq=sorted(unifreq,reverse=True)\n",
    "    \n",
    "    if len(unifreq)>=k:\n",
    "        kfreq=unifreq[k-1]\n",
    "        return(kfreq)\n",
    "    else:\n",
    "        return -1\n",
    "    kfreqchar=[]\n",
    "\n",
    "    for item in unique.items():\n",
    "        print(item)\n",
    "        if item[1]==kfreq:\n",
    "            kfreqchar.append(item[0])\n",
    "            print(kfreqchar)\n",
    "    return min(kfreqchar)\n",
    "#khigh([9,8,7,6,5,4,3,2,9,6,7,7,7,6,6],66)\n",
    "with open(\"datafiles/freq.txt\",\"r\") as f:\n",
    "    t=f.readline()\n",
    "    #print(t)\n",
    "    for i in range(int(t)):\n",
    "        s=f.readline().strip()\n",
    "        k=int(f.readline())\n",
    "        print(khigh(s,k))\n",
    "\n"
   ]
  },
  {
   "cell_type": "code",
   "execution_count": null,
   "metadata": {},
   "outputs": [],
   "source": []
  },
  {
   "cell_type": "code",
   "execution_count": null,
   "metadata": {},
   "outputs": [],
   "source": []
  },
  {
   "cell_type": "code",
   "execution_count": null,
   "metadata": {},
   "outputs": [],
   "source": []
  }
 ],
 "metadata": {
  "kernelspec": {
   "display_name": "Python 3",
   "language": "python",
   "name": "python3"
  },
  "language_info": {
   "codemirror_mode": {
    "name": "ipython",
    "version": 3
   },
   "file_extension": ".py",
   "mimetype": "text/x-python",
   "name": "python",
   "nbconvert_exporter": "python",
   "pygments_lexer": "ipython3",
   "version": "3.7.3"
  }
 },
 "nbformat": 4,
 "nbformat_minor": 2
}
