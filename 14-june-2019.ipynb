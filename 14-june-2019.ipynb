{
 "cells": [
  {
   "cell_type": "markdown",
   "metadata": {},
   "source": [
    "### PROBLEM SOLVING AND PROGRAMMING IN PYTHON\n",
    "###### DATE 14-JUNE-2019\n",
    "##### Day Objectives\n",
    "###### Python Data Structures\n",
    "* Lists\n",
    "* Tuples\n",
    "* Dictionaries\n",
    "\n",
    "\n",
    "Basic Problem set on Data Structures\n",
    "\n",
    "Advanced Problem Set\n",
    "\n",
    "Packages and Modules in Python"
   ]
  },
  {
   "cell_type": "code",
   "execution_count": 61,
   "metadata": {},
   "outputs": [
    {
     "data": {
      "text/plain": [
       "[123, 555, 566, 898, 8998, 99090, 98000]"
      ]
     },
     "execution_count": 61,
     "metadata": {},
     "output_type": "execute_result"
    }
   ],
   "source": [
    "li=[123,3455,566]\n",
    "\n",
    "li\n",
    "li[1]\n",
    "li[0]\n",
    "li[::-1]\n",
    "li=li[::-1]\n",
    "li\n",
    "li[1::2]\n",
    "#lists can be accessed ,manupulated in two ways\n",
    "        #Direct referncing\n",
    "        #Indirect referncing\n",
    "li.append(555)#adds element to end of list[566, 3455, 123, 555]\n",
    "\n",
    "\n",
    "li.insert(1,234)#adding element at requried place [566, 234, 3455, 123, 555]\n",
    "\n",
    "li.sort()#sort elements in acending order[123, 234, 555, 566, 3455]\n",
    "\n",
    "li.pop()#remove last element in list[123, 234, 555, 566]\n",
    "\n",
    "li.pop(1)#remove the element at particular index[123, 555, 566]\n",
    "\n",
    "li2=[898,8998,99090,98000]\n",
    "# merge list2 to list 1\n",
    "li.extend(li2)#o/p:[123, 555, 566, 898, 8998, 99090, 98000]\n",
    "sum(li)# o/p 208230\n",
    "max(li)# o/p 99090\n",
    "len(li)# o/p 7\n",
    "sum(li)/len(li)# average 29747.142\n",
    "#average of all alternate elements\n",
    "sum(li[::2])/len(li[::2])# 0/p:107687 / 4 = 26921.75\n",
    "li[-2]\n",
    "li\n",
    "\n"
   ]
  },
  {
   "cell_type": "code",
   "execution_count": 66,
   "metadata": {},
   "outputs": [
    {
     "name": "stdout",
     "output_type": "stream",
     "text": [
      "8998\n"
     ]
    }
   ],
   "source": [
    "#li=[123, 555, 566, 898, 8998, 99090, 98000]\n",
    "def sai(li,n):\n",
    "    li.sort()\n",
    "    print(li[-n])\n",
    "sai(li,3)"
   ]
  },
  {
   "cell_type": "code",
   "execution_count": 79,
   "metadata": {},
   "outputs": [
    {
     "data": {
      "text/plain": [
       "3"
      ]
     },
     "execution_count": 79,
     "metadata": {},
     "output_type": "execute_result"
    }
   ],
   "source": [
    "#  Function to saerch for data in alist\n",
    "#search for a key in the list and return the index value \n",
    "#li=[123, 555, 566, 898, 8998, 99090, 98000]\n",
    "def searchlist(li,key):\n",
    "    for i in range(0,len(li)):\n",
    "        if li[i]==key:\n",
    "            return i\n",
    "    return -1\n",
    "searchlist(li,898)\n",
    "#logic 2\n",
    "def searchlist2(li,key):\n",
    "    for i in li:\n",
    "        if i==key:\n",
    "            return li.index(i)\n",
    "    return -1\n",
    "searchlist2(li,898)\n",
    "# logic 3\n",
    "def searchlist3(li,key):\n",
    "    if key in li:\n",
    "        return li.index(key)\n",
    "    return -1\n",
    "searchlist2(li,898)\n",
    "    "
   ]
  },
  {
   "cell_type": "code",
   "execution_count": 94,
   "metadata": {},
   "outputs": [
    {
     "data": {
      "text/plain": [
       "1"
      ]
     },
     "execution_count": 94,
     "metadata": {},
     "output_type": "execute_result"
    }
   ],
   "source": [
    "# function to count the occurances of achracter in a string\n",
    "k=\"python programming\"\n",
    "def characteroccurances(k,n):\n",
    "    count=0\n",
    "    for i in k:\n",
    "        if i==n:\n",
    "            count+=1\n",
    "    return count\n",
    "characteroccurances(k,\"p\")\n",
    "#logic 2\n",
    "def chracteroccurances2(s,c):\n",
    "    return k.count(c)\n",
    "chracteroccurances2(k,\"py\")\n"
   ]
  },
  {
   "cell_type": "code",
   "execution_count": null,
   "metadata": {},
   "outputs": [],
   "source": []
  }
 ],
 "metadata": {
  "kernelspec": {
   "display_name": "Python 3",
   "language": "python",
   "name": "python3"
  },
  "language_info": {
   "codemirror_mode": {
    "name": "ipython",
    "version": 3
   },
   "file_extension": ".py",
   "mimetype": "text/x-python",
   "name": "python",
   "nbconvert_exporter": "python",
   "pygments_lexer": "ipython3",
   "version": "3.7.3"
  }
 },
 "nbformat": 4,
 "nbformat_minor": 2
}
