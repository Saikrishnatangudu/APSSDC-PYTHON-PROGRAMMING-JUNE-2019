{
 "cells": [
  {
   "cell_type": "markdown",
   "metadata": {},
   "source": [
    "### PROBLEM SOLVING AND PROGRAMMING IN PYTHON\n",
    "###### DATE 14-JUNE-2019\n",
    "##### Day Objectives\n",
    "###### Python Data Structures\n",
    "* Lists\n",
    "* Tuples\n",
    "* Dictionaries\n",
    "\n",
    "\n",
    "Basic Problem set on Data Structures\n",
    "\n",
    "Advanced Problem Set\n",
    "\n",
    "Packages and Modules in Python"
   ]
  },
  {
   "cell_type": "code",
   "execution_count": 61,
   "metadata": {},
   "outputs": [
    {
     "data": {
      "text/plain": [
       "[123, 555, 566, 898, 8998, 99090, 98000]"
      ]
     },
     "execution_count": 61,
     "metadata": {},
     "output_type": "execute_result"
    }
   ],
   "source": [
    "li=[123,3455,566]\n",
    "\n",
    "li\n",
    "li[1]\n",
    "li[0]\n",
    "li[::-1]\n",
    "li=li[::-1]\n",
    "li\n",
    "li[1::2]\n",
    "#lists can be accessed ,manupulated in two ways\n",
    "        #Direct referncing\n",
    "        #Indirect referncing\n",
    "li.append(555)#adds element to end of list[566, 3455, 123, 555]\n",
    "\n",
    "\n",
    "li.insert(1,234)#adding element at requried place [566, 234, 3455, 123, 555]\n",
    "\n",
    "li.sort()#sort elements in acending order[123, 234, 555, 566, 3455]\n",
    "\n",
    "li.pop()#remove last element in list[123, 234, 555, 566]\n",
    "\n",
    "li.pop(1)#remove the element at particular index[123, 555, 566]\n",
    "\n",
    "li2=[898,8998,99090,98000]\n",
    "# merge list2 to list 1\n",
    "li.extend(li2)#o/p:[123, 555, 566, 898, 8998, 99090, 98000]\n",
    "sum(li)# o/p 208230\n",
    "max(li)# o/p 99090\n",
    "len(li)# o/p 7\n",
    "sum(li)/len(li)# average 29747.142\n",
    "#average of all alternate elements\n",
    "sum(li[::2])/len(li[::2])# 0/p:107687 / 4 = 26921.75\n",
    "li[-2]\n",
    "li\n",
    "\n"
   ]
  },
  {
   "cell_type": "code",
   "execution_count": 2,
   "metadata": {
    "scrolled": false
   },
   "outputs": [
    {
     "name": "stdout",
     "output_type": "stream",
     "text": [
      "8998\n"
     ]
    }
   ],
   "source": [
    "li=[123, 555, 566, 898, 8998, 99090, 98000]\n",
    "def sai(li,n):\n",
    "    li.sort()\n",
    "    print(li[-n])\n",
    "sai(li,3)"
   ]
  },
  {
   "cell_type": "code",
   "execution_count": 79,
   "metadata": {},
   "outputs": [
    {
     "data": {
      "text/plain": [
       "3"
      ]
     },
     "execution_count": 79,
     "metadata": {},
     "output_type": "execute_result"
    }
   ],
   "source": [
    "#  Function to saerch for data in alist\n",
    "#search for a key in the list and return the index value \n",
    "#li=[123, 555, 566, 898, 8998, 99090, 98000]\n",
    "def searchlist(li,key):\n",
    "    for i in range(0,len(li)):\n",
    "        if li[i]==key:\n",
    "            return i\n",
    "    return -1\n",
    "searchlist(li,898)\n",
    "#logic 2\n",
    "def searchlist2(li,key):\n",
    "    for i in li:\n",
    "        if i==key:\n",
    "            return li.index(i)\n",
    "    return -1\n",
    "searchlist2(li,898)\n",
    "# logic 3\n",
    "def searchlist3(li,key):\n",
    "    if key in li:\n",
    "        return li.index(key)\n",
    "    return -1\n",
    "searchlist2(li,898)\n",
    "    "
   ]
  },
  {
   "cell_type": "code",
   "execution_count": 6,
   "metadata": {},
   "outputs": [
    {
     "data": {
      "text/plain": [
       "2"
      ]
     },
     "execution_count": 6,
     "metadata": {},
     "output_type": "execute_result"
    }
   ],
   "source": [
    "# function to count the occurances of achracter in a string\n",
    "k=\"python programming\"\n",
    "def characteroccurances(k,n):\n",
    "    count=0\n",
    "    for i in k:\n",
    "        if i==n:\n",
    "            count+=1\n",
    "    return count\n",
    "characteroccurances(k,\"p\")\n",
    "#logic 2\n",
    "def chracteroccurances2(s,c):\n",
    "    return k.count(c)\n",
    "chracteroccurances2(k,\"py\")\n",
    "#logic 3\n",
    "# Function to find the number of occerences of a substring\n",
    "#\"abcabcddcbaaaa\", \"ab\" --> 2\n",
    "#\"abcabcddcbaaaa\", \"aa\" --> 3\n",
    "\n",
    "def countCharOccurences3(s,sb):\n",
    "    results = 0\n",
    "    sub_len = len(sb)\n",
    "    for i in range(len(s)):\n",
    "        if s[i:i+sub_len] == sb:\n",
    "            results += 1\n",
    "    return results\n",
    "countCharOccurences3(\"abcabcddcbaaaa\",\"ab\")"
   ]
  },
  {
   "cell_type": "code",
   "execution_count": 2,
   "metadata": {},
   "outputs": [
    {
     "data": {
      "text/plain": [
       "['1', '2', '3', '3', '4', '4', '55', '5', '5', '5']"
      ]
     },
     "execution_count": 2,
     "metadata": {},
     "output_type": "execute_result"
    }
   ],
   "source": [
    "s=\"1 2 3 3 4 4 55 5 5 5 \"\n",
    "s.split()\n",
    "\n",
    "\n"
   ]
  },
  {
   "cell_type": "code",
   "execution_count": 16,
   "metadata": {},
   "outputs": [
    {
     "name": "stdout",
     "output_type": "stream",
     "text": [
      "5\n",
      "-100 -200 2 4 -899\n",
      "[-100, -200, 2, 4, -899]\n",
      "[100, 200, 2, 4, 899]\n",
      "2\n",
      "-899\n"
     ]
    }
   ],
   "source": [
    "\n",
    "\n",
    "\n",
    "k=int(input())\n",
    "l=input()\n",
    "p=[]\n",
    "w=[]\n",
    "u=l.split()\n",
    "for i in u:\n",
    "    p.append(int(i))\n",
    "print(p)\n",
    "if min(p)==0:\n",
    "    print(0)\n",
    "elif min(p)!=0:\n",
    "    for j in p:\n",
    "        w.append(abs(j))\n",
    "print(w)\n",
    "if min(w) in p:\n",
    "    print(min(w))\n",
    "else:\n",
    "    print(-min(w))\n",
    "\n",
    "\n",
    "\n",
    "if max(w) in p:\n",
    "    print(max(w))\n",
    "else:\n",
    "    print(-max(w))\n",
    "\n",
    "\n"
   ]
  },
  {
   "cell_type": "markdown",
   "metadata": {},
   "source": [
    "### "
   ]
  },
  {
   "cell_type": "code",
   "execution_count": 41,
   "metadata": {},
   "outputs": [
    {
     "name": "stdout",
     "output_type": "stream",
     "text": [
      "2\n",
      "1 2 4\n",
      "[1, 2, 4]\n",
      "3\n"
     ]
    }
   ],
   "source": [
    "#question 3\n",
    "k=int(input())\n",
    "l=input()\n",
    "p=[]\n",
    "w=[]\n",
    "u=l.split()\n",
    "for i in u:\n",
    "    p.append(int(i))\n",
    "print(p)\n",
    "try:\n",
    "    for j in range (p[2],p[0]-1,-1):\n",
    "        if j%p[0]==p[1]:\n",
    "    \n",
    "    print(o)\n",
    "except:\n",
    "    print(-1)\n",
    "    \n",
    "\n",
    "        \n",
    "    \n"
   ]
  },
  {
   "cell_type": "code",
   "execution_count": null,
   "metadata": {},
   "outputs": [],
   "source": [
    "n=int(input(\"enter range: \"))\n",
    "for i in range(n):\n",
    "    abc=input(\"Enter abc:\").split()\n",
    "    a=int(abc[0])\n",
    "    b=int(abc[1])\n",
    "    c=int(abc[2])\n",
    "    print(divisible(a,b,c))\n",
    "def "
   ]
  },
  {
   "cell_type": "code",
   "execution_count": 17,
   "metadata": {},
   "outputs": [
    {
     "name": "stdout",
     "output_type": "stream",
     "text": [
      "2\n",
      "3\n",
      "5\n",
      "7\n",
      "11\n",
      "13\n"
     ]
    }
   ],
   "source": [
    "def prime():\n",
    "    #n=int(input('enter 1st no  : '))\n",
    "   # u=int(input('enter no  : '))\n",
    "    sum=0\n",
    "    count=0\n",
    "    pr=[]\n",
    "    for num in range(1,14):\n",
    "        if num > 1:\n",
    "           for i in range(2,num):\n",
    "              #print(i)\n",
    "              if (num % i) == 0:\n",
    "                   break\n",
    "           else:\n",
    "             print(num)\n",
    "prime()\n"
   ]
  },
  {
   "cell_type": "code",
   "execution_count": 11,
   "metadata": {},
   "outputs": [
    {
     "data": {
      "text/plain": [
       "5"
      ]
     },
     "execution_count": 11,
     "metadata": {},
     "output_type": "execute_result"
    }
   ],
   "source": [
    "def Fibonacci(n): \n",
    "    if n<0: \n",
    "        print(\"Incorrect input\") \n",
    "    elif n==1: \n",
    "        return 0 \n",
    "    elif n==2: \n",
    "        return 1\n",
    "    else: \n",
    "        return Fibonacci(n-1)+Fibonacci(n-2) \n",
    "Fibonacci(6)  "
   ]
  },
  {
   "cell_type": "code",
   "execution_count": 5,
   "metadata": {},
   "outputs": [
    {
     "name": "stdout",
     "output_type": "stream",
     "text": [
      "False\n"
     ]
    }
   ],
   "source": [
    "K=\"Sai\"\n",
    "print(K.islower())"
   ]
  },
  {
   "cell_type": "code",
   "execution_count": 6,
   "metadata": {},
   "outputs": [
    {
     "name": "stdout",
     "output_type": "stream",
     "text": [
      "Enter the number:6\n",
      "2\n",
      "3\n",
      "5\n"
     ]
    }
   ],
   "source": []
  },
  {
   "cell_type": "markdown",
   "metadata": {},
   "source": [
    "#### Day Objectives\n",
    "\n",
    "Basic Problem Set on Hackerearth ( Basic I / O category)\n",
    "\n",
    "* Count Divisors\n",
    "\n",
    "* Factorial\n",
    "\n",
    "* Toggle String\n",
    "\n",
    "* Palindrome\n",
    "\n",
    "* Prime Numbers\n",
    "\n",
    "* Two Strings\n",
    "\n",
    "* Duration\n",
    "\n",
    "* Char Sum\n",
    "\n",
    "* Play with Numbers"
   ]
  },
  {
   "cell_type": "code",
   "execution_count": null,
   "metadata": {},
   "outputs": [],
   "source": [
    "### FACTORIAL\n",
    "k= int(input())\n",
    "s=1\n",
    "if k==0:\n",
    "    print(0)\n",
    "else:\n",
    "    for i in range(1,k+1):\n",
    "        s=s*i\n",
    "    print(s)"
   ]
  },
  {
   "cell_type": "code",
   "execution_count": null,
   "metadata": {},
   "outputs": [],
   "source": [
    "#Count Divisors\n",
    "\n",
    "l=[]\n",
    "k=input()\n",
    "p=k.split()\n",
    "count=0\n",
    "for i in p:\n",
    "    l.append(int(i))\n",
    "for j in range(l[0],l[1]+1):\n",
    "    if j%l[2]==0:\n",
    "        count+=1\n",
    "print(count)"
   ]
  },
  {
   "cell_type": "code",
   "execution_count": null,
   "metadata": {},
   "outputs": [],
   "source": [
    "#Toggle String\n",
    "k=input()\n",
    "for i in k:\n",
    "    if i.isupper():\n",
    "        print(i.lower(),end='')\n",
    "    else:\n",
    "        print(i.upper(),end='')\n",
    "        "
   ]
  },
  {
   "cell_type": "code",
   "execution_count": null,
   "metadata": {},
   "outputs": [],
   "source": [
    "#Palindromic String\n",
    "k=input()\n",
    "if k==k[::-1]:\n",
    "    print(\"YES\")\n",
    "else:\n",
    "    print(\"NO\")"
   ]
  },
  {
   "cell_type": "code",
   "execution_count": 25,
   "metadata": {},
   "outputs": [
    {
     "name": "stdout",
     "output_type": "stream",
     "text": [
      "9\n",
      "2 3 5 7 "
     ]
    }
   ],
   "source": [
    "#Prime Number\n",
    "n=int(input())\n",
    "for i in range(1,n+1):\n",
    "    count= 0\n",
    "    for j in range(1,n+1):\n",
    "        if i%j == 0:\n",
    "            count=count+1\n",
    "    if count == 2:\n",
    "        print(i,end=\" \")"
   ]
  },
  {
   "cell_type": "code",
   "execution_count": 13,
   "metadata": {},
   "outputs": [
    {
     "data": {
      "text/plain": [
       "0"
      ]
     },
     "execution_count": 13,
     "metadata": {},
     "output_type": "execute_result"
    }
   ],
   "source": [
    "5//6"
   ]
  },
  {
   "cell_type": "code",
   "execution_count": 14,
   "metadata": {},
   "outputs": [
    {
     "name": "stdout",
     "output_type": "stream",
     "text": [
      "2 3 4 5 \n",
      "2 3 4 5\n"
     ]
    }
   ],
   "source": [
    "a,b,c,d=input().split()\n",
    "print(a,b,c,d)"
   ]
  },
  {
   "cell_type": "code",
   "execution_count": 16,
   "metadata": {},
   "outputs": [
    {
     "name": "stdout",
     "output_type": "stream",
     "text": [
      "23 45 6 89\n",
      "['23', '45', '6', '89']\n"
     ]
    }
   ],
   "source": [
    "#k=int(input())\n",
    "u=input()\n",
    "i=u.split()\n",
    "print(i)\n"
   ]
  },
  {
   "cell_type": "code",
   "execution_count": 24,
   "metadata": {},
   "outputs": [
    {
     "name": "stdout",
     "output_type": "stream",
     "text": [
      "['sai']\n"
     ]
    }
   ],
   "source": [
    "sai=\"sai\"\n",
    "print(sorted(sai.split()))\n"
   ]
  },
  {
   "cell_type": "code",
   "execution_count": 37,
   "metadata": {
    "scrolled": true
   },
   "outputs": [
    {
     "name": "stdout",
     "output_type": "stream",
     "text": [
      "sai\n",
      "krishna\n",
      "NO\n",
      "axxsx\n"
     ]
    },
    {
     "ename": "ValueError",
     "evalue": "invalid literal for int() with base 10: 'axxsx'",
     "output_type": "error",
     "traceback": [
      "\u001b[1;31m---------------------------------------------------------------------------\u001b[0m",
      "\u001b[1;31mValueError\u001b[0m                                Traceback (most recent call last)",
      "\u001b[1;32m<ipython-input-37-488250179437>\u001b[0m in \u001b[0;36m<module>\u001b[1;34m\u001b[0m\n\u001b[0;32m      8\u001b[0m     \u001b[1;32mfor\u001b[0m \u001b[0mi\u001b[0m \u001b[1;32min\u001b[0m \u001b[0mrange\u001b[0m\u001b[1;33m(\u001b[0m\u001b[1;36m1\u001b[0m\u001b[1;33m,\u001b[0m\u001b[1;33m(\u001b[0m\u001b[0mint\u001b[0m\u001b[1;33m(\u001b[0m\u001b[0minput\u001b[0m\u001b[1;33m(\u001b[0m\u001b[1;33m)\u001b[0m\u001b[1;33m)\u001b[0m\u001b[1;33m)\u001b[0m\u001b[1;33m+\u001b[0m\u001b[1;36m1\u001b[0m\u001b[1;33m)\u001b[0m\u001b[1;33m:\u001b[0m\u001b[1;33m\u001b[0m\u001b[1;33m\u001b[0m\u001b[0m\n\u001b[0;32m      9\u001b[0m         \u001b[0ms1\u001b[0m\u001b[1;33m,\u001b[0m\u001b[0ms2\u001b[0m\u001b[1;33m=\u001b[0m\u001b[0minput\u001b[0m\u001b[1;33m(\u001b[0m\u001b[1;33m)\u001b[0m\u001b[1;33m.\u001b[0m\u001b[0msplit\u001b[0m\u001b[1;33m(\u001b[0m\u001b[1;33m)\u001b[0m\u001b[1;33m\u001b[0m\u001b[1;33m\u001b[0m\u001b[0m\n\u001b[1;32m---> 10\u001b[1;33m \u001b[0mstringPermutations\u001b[0m\u001b[1;33m(\u001b[0m\u001b[0msorted\u001b[0m\u001b[1;33m(\u001b[0m\u001b[0ms1\u001b[0m\u001b[1;33m)\u001b[0m\u001b[1;33m,\u001b[0m\u001b[0msorted\u001b[0m\u001b[1;33m(\u001b[0m\u001b[0ms2\u001b[0m\u001b[1;33m)\u001b[0m\u001b[1;33m)\u001b[0m\u001b[1;33m\u001b[0m\u001b[1;33m\u001b[0m\u001b[0m\n\u001b[0m",
      "\u001b[1;32m<ipython-input-37-488250179437>\u001b[0m in \u001b[0;36mstringPermutations\u001b[1;34m(s1, s2)\u001b[0m\n\u001b[0;32m      6\u001b[0m     \u001b[1;32melse\u001b[0m\u001b[1;33m:\u001b[0m\u001b[1;33m\u001b[0m\u001b[1;33m\u001b[0m\u001b[0m\n\u001b[0;32m      7\u001b[0m         \u001b[0mprint\u001b[0m\u001b[1;33m(\u001b[0m\u001b[1;34m\"NO\"\u001b[0m\u001b[1;33m)\u001b[0m\u001b[1;33m\u001b[0m\u001b[1;33m\u001b[0m\u001b[0m\n\u001b[1;32m----> 8\u001b[1;33m     \u001b[1;32mfor\u001b[0m \u001b[0mi\u001b[0m \u001b[1;32min\u001b[0m \u001b[0mrange\u001b[0m\u001b[1;33m(\u001b[0m\u001b[1;36m1\u001b[0m\u001b[1;33m,\u001b[0m\u001b[1;33m(\u001b[0m\u001b[0mint\u001b[0m\u001b[1;33m(\u001b[0m\u001b[0minput\u001b[0m\u001b[1;33m(\u001b[0m\u001b[1;33m)\u001b[0m\u001b[1;33m)\u001b[0m\u001b[1;33m)\u001b[0m\u001b[1;33m+\u001b[0m\u001b[1;36m1\u001b[0m\u001b[1;33m)\u001b[0m\u001b[1;33m:\u001b[0m\u001b[1;33m\u001b[0m\u001b[1;33m\u001b[0m\u001b[0m\n\u001b[0m\u001b[0;32m      9\u001b[0m         \u001b[0ms1\u001b[0m\u001b[1;33m,\u001b[0m\u001b[0ms2\u001b[0m\u001b[1;33m=\u001b[0m\u001b[0minput\u001b[0m\u001b[1;33m(\u001b[0m\u001b[1;33m)\u001b[0m\u001b[1;33m.\u001b[0m\u001b[0msplit\u001b[0m\u001b[1;33m(\u001b[0m\u001b[1;33m)\u001b[0m\u001b[1;33m\u001b[0m\u001b[1;33m\u001b[0m\u001b[0m\n\u001b[0;32m     10\u001b[0m \u001b[0mstringPermutations\u001b[0m\u001b[1;33m(\u001b[0m\u001b[0msorted\u001b[0m\u001b[1;33m(\u001b[0m\u001b[0ms1\u001b[0m\u001b[1;33m)\u001b[0m\u001b[1;33m,\u001b[0m\u001b[0msorted\u001b[0m\u001b[1;33m(\u001b[0m\u001b[0ms2\u001b[0m\u001b[1;33m)\u001b[0m\u001b[1;33m)\u001b[0m\u001b[1;33m\u001b[0m\u001b[1;33m\u001b[0m\u001b[0m\n",
      "\u001b[1;31mValueError\u001b[0m: invalid literal for int() with base 10: 'axxsx'"
     ]
    }
   ],
   "source": [
    "s1=input()\n",
    "s2=input()\n",
    "def stringPermutations(s1,s2):\n",
    "    if s1 == s2:\n",
    "        print(\"YES\")\n",
    "    else:\n",
    "        print(\"NO\")\n",
    "    for i in range(1,(int(input()))+1):\n",
    "        s1,s2=input().split()\n",
    "stringPermutations(sorted(s1),sorted(s2))"
   ]
  },
  {
   "cell_type": "code",
   "execution_count": 35,
   "metadata": {},
   "outputs": [
    {
     "name": "stdout",
     "output_type": "stream",
     "text": [
      "['sai']\n",
      "['sai']\n"
     ]
    }
   ],
   "source": [
    "k=\"sai\"\n",
    "l=k.split()\n",
    "print(l)\n",
    "print(sorted(l))"
   ]
  },
  {
   "cell_type": "code",
   "execution_count": 39,
   "metadata": {},
   "outputs": [
    {
     "name": "stdout",
     "output_type": "stream",
     "text": [
      "['a', 'i', 's']\n"
     ]
    }
   ],
   "source": [
    "k=\"sai\"\n",
    "print(sorted(k))"
   ]
  },
  {
   "cell_type": "code",
   "execution_count": 42,
   "metadata": {},
   "outputs": [
    {
     "name": "stdout",
     "output_type": "stream",
     "text": [
      "n\n"
     ]
    }
   ],
   "source": [
    "a=['a', 'i', 's']\n",
    "b=['a', 'i', 'o']\n",
    "if a==b:\n",
    "    print(\"y\")\n",
    "else:\n",
    "    print(\"n\")"
   ]
  },
  {
   "cell_type": "code",
   "execution_count": 45,
   "metadata": {},
   "outputs": [
    {
     "name": "stdout",
     "output_type": "stream",
     "text": [
      "sat sat\n",
      "[['a', 's', 't'], ['a', 's', 't']]\n",
      "YES\n"
     ]
    }
   ],
   "source": [
    "k=input().split()\n",
    "#print(k)\n",
    "#l=[k[0],k[1]]\n",
    "l=[]\n",
    "for i in k:\n",
    "    #print(sorted(i))\n",
    "   # print(i)\n",
    "   \n",
    "    #print(sorted(i))\n",
    "    l.append(sorted(i))\n",
    "print(l)\n",
    "if l[0]==l[1]:\n",
    "    print(\"YES\")\n",
    "else:\n",
    "    print(\"NO\")\n"
   ]
  },
  {
   "cell_type": "code",
   "execution_count": null,
   "metadata": {},
   "outputs": [],
   "source": [
    "# two strings\n",
    "n=int(input())\n",
    "def twostrings(f,s):\n",
    "    f1=1\n",
    "    if len(f)!=len(s):\n",
    "        return 'NO'\n",
    "    else:\n",
    "        for i in range(len(f)):\n",
    "            if f.count(f[i])!=s.count(f[i]):\n",
    "                return 'NO'\n",
    "        if f1==1:\n",
    "                return 'YES'\n",
    "for i in range(n):\n",
    "    st=input().split()\n",
    "    f=st[0]\n",
    "    s=st[1]\n",
    "    print(twostrings(f,s))\n",
    "\n"
   ]
  }
 ],
 "metadata": {
  "kernelspec": {
   "display_name": "Python 3",
   "language": "python",
   "name": "python3"
  }
 },
 "nbformat": 4,
 "nbformat_minor": 2
}
