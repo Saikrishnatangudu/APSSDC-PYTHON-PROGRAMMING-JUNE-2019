{
 "cells": [
  {
   "cell_type": "code",
   "execution_count": 5,
   "metadata": {},
   "outputs": [
    {
     "name": "stdout",
     "output_type": "stream",
     "text": [
      "s\n",
      "g\n",
      "x\n",
      "e\n",
      "w\n",
      "r\n",
      "n\n",
      "k\n",
      "-1\n",
      "-1\n"
     ]
    }
   ],
   "source": [
    "# Element with Kth highest frequency\n",
    "def khigh(s,k):\n",
    "    unique={}\n",
    "    for c in s:\n",
    "        if c not in unique:\n",
    "            unique[c]=1\n",
    "        else:\n",
    "            unique[c]+=1\n",
    "    # extract all unique frequencies  in a  list\n",
    "    unifreq=[]\n",
    "    for value in unique.values():\n",
    "        if value not in unifreq:\n",
    "            unifreq.append(value)\n",
    "    #print(unifreq)       \n",
    "    unifreq=sorted(unifreq,reverse=True)\n",
    "    \n",
    "    if len(unifreq)>=k:\n",
    "        kfreq=unifreq[k-1]\n",
    "        #return(kfreq)\n",
    "        kfreqchar=[]\n",
    "\n",
    "        for item in unique.items():\n",
    "            #print(item)\n",
    "            if item[1]==kfreq:\n",
    "                kfreqchar.append(item[0])\n",
    "                #print(kfreqchar)\n",
    "                return min(kfreqchar)\n",
    "    else:\n",
    "        return -1\n",
    "    #kfreqchar=[]\n",
    "\n",
    "#     for item in unique.items():\n",
    "#         print(item)\n",
    "#         if item[1]==kfreq:\n",
    "#             kfreqchar.append(item[0])\n",
    "#             print(kfreqchar)\n",
    "#     return min(kfreqchar)\n",
    "#khigh([9,8,7,6,5,4,3,2,9,6,7,7,7,6,6],66)\n",
    "with open(\"datafiles/freq.txt\",\"r\") as f:\n",
    "    t=f.readline()\n",
    "    #print(t)\n",
    "    for i in range(int(t)):\n",
    "        s=f.readline().strip()\n",
    "        k=int(f.readline())\n",
    "        print(khigh(s,k))\n",
    "\n"
   ]
  },
  {
   "cell_type": "code",
   "execution_count": 21,
   "metadata": {},
   "outputs": [
    {
     "name": "stdout",
     "output_type": "stream",
     "text": [
      "77 6 3\n",
      "77 6 4\n",
      "77 6 4\n",
      "77 3 4\n",
      "77 3 4\n",
      "77 4 4\n",
      "6 3 4\n",
      "6 3 4\n",
      "6 4 4\n",
      "3 4 4\n"
     ]
    }
   ],
   "source": [
    "#function to print all combinations of integers in a unique list\n",
    "\n",
    "\n",
    "def combinations(li):\n",
    "    for i in range(len(li)-1):\n",
    "        for j in range(i+1,len(li)):\n",
    "            for k in range(j+1,len(li)):\n",
    "                print(li[i],li[j],li[k])\n",
    "    \n",
    "\n",
    "combinations([77,6,3,4,4])      "
   ]
  },
  {
   "cell_type": "code",
   "execution_count": 47,
   "metadata": {},
   "outputs": [
    {
     "data": {
      "text/plain": [
       "[3, 6, 9, 12, 2, 1, 4, 7, 10]"
      ]
     },
     "execution_count": 47,
     "metadata": {},
     "output_type": "execute_result"
    }
   ],
   "source": [
    "\n",
    "def diffPairs(li):\n",
    "   c=li.copy()\n",
    "   new = []\n",
    "   for i in range(len(li)-1):\n",
    "       for j in range(i+1, len(li)):\n",
    "           d = abs(li[i]-li[j])\n",
    "           if d not in li and d not in new:\n",
    "               new.append(d)\n",
    "               \n",
    "   li.extend(new)\n",
    "   return li\n",
    "li = [3,6,9,12,2]\n",
    "diffPairs(li)"
   ]
  },
  {
   "cell_type": "code",
   "execution_count": null,
   "metadata": {},
   "outputs": [],
   "source": [
    "def diffPairs(li):\n",
    "   c=li.copy()\n",
    "   new = []\n",
    "   for i in range(len(li)-1):\n",
    "       for j in range(i+1, len(li)):\n",
    "           d = abs(li[i]-li[j])\n",
    "           if d not in li and d not in new:\n",
    "               new.append(d)\n",
    "               \n",
    "   li.extend(new)\n",
    "   return li\n",
    "li = [3,6,9,12,2]\n",
    "diffPairs(li)\n",
    "# [1,2,3] -> [1,2,3] def medium(li,k): while(True): li3 = differencePairs(li) if li3[0] == li3[1]: break if len(li3[0]) >= k: return sorted(li3[0],reverse=True)[k-1] return -1 # Function to identify differences of all #pairs of numbers and add those differences #to the same list. # It returns the updated list and original list def differencePairs(li): cli = li[:] newelements = [] for i in range(len(li)-1): for j in range(i+1, len(li)): d = abs(li[i]-li[j]) if d not in li and d not in newelements: newelements.append(d) li.extend(newelements) return [cli, li] li = [1,9,8,7,6,2] differencePairs(li)\n",
    "# [1,2,3] -> [1,2,3]\n",
    "\n",
    "def medium(li,k):\n",
    "   while(True):\n",
    "       li3 = differencePairs(li)\n",
    "       if li3[0] == li3[1]:\n",
    "           break\n",
    "   if len(li3[0]) >= k:\n",
    "       return sorted(li3[0],reverse=True)[k-1]\n",
    "   return -1\n",
    "\n",
    "# Function to identify differences of all \n",
    "#pairs of numbers and add those differences\n",
    "#to the same list.\n",
    "# It returns the updated list and original list\n",
    "\n",
    "def differencePairs(li):\n",
    "   cli = li[:]\n",
    "   newelements = []\n",
    "   \n",
    "   for i in range(len(li)-1):\n",
    "       for j in range(i+1, len(li)):\n",
    "           d = abs(li[i]-li[j])\n",
    "           if d not in li and d not in newelements:\n",
    "               newelements.append(d)\n",
    "   li.extend(newelements)\n",
    "   return [cli, li]\n",
    "li = [1,9,8,7,6,2]\n",
    "differencePairs(li)\n"
   ]
  },
  {
   "cell_type": "code",
   "execution_count": null,
   "metadata": {},
   "outputs": [],
   "source": []
  },
  {
   "cell_type": "markdown",
   "metadata": {},
   "source": [
    "### set data structure in python\n",
    "- represented by -{}"
   ]
  },
  {
   "cell_type": "code",
   "execution_count": 58,
   "metadata": {},
   "outputs": [
    {
     "data": {
      "text/plain": [
       "{0, 1, 10, 112, 2, 27, 3, 4, 44, 6, 7, 8, 9, 'a', 'b', 'g'}"
      ]
     },
     "execution_count": 58,
     "metadata": {},
     "output_type": "execute_result"
    }
   ],
   "source": [
    "a={1,2,3,4,6,7}\n",
    "# for i in a:       acessing elements\n",
    "#     print(i)\n",
    "b={7,8,9}\n",
    "a.update(b)\n",
    "c=['a','b','g',10,8,1,112,3,27,3,44,3,3,3,3,4,0]\n",
    "a.update(c)#adding multiple elements\n",
    "a"
   ]
  },
  {
   "cell_type": "code",
   "execution_count": 60,
   "metadata": {},
   "outputs": [
    {
     "data": {
      "text/plain": [
       "{0, 1, 10, 112, 2, 27, 3, 4, 44, 6, 7, 8, 9, 'b', 'g'}"
      ]
     },
     "execution_count": 60,
     "metadata": {},
     "output_type": "execute_result"
    }
   ],
   "source": [
    "a.discard('a')# used to remove single element from set\n",
    "a"
   ]
  },
  {
   "cell_type": "code",
   "execution_count": 61,
   "metadata": {},
   "outputs": [
    {
     "data": {
      "text/plain": [
       "{1, 2, 3, 4, 6, 7}"
      ]
     },
     "execution_count": 61,
     "metadata": {},
     "output_type": "execute_result"
    }
   ],
   "source": [
    "a={1,2,3,4,6,7}\n",
    "b={7,8,9,4,6,7}\n",
    "a.intersection(b)\n",
    "a"
   ]
  },
  {
   "cell_type": "code",
   "execution_count": 62,
   "metadata": {},
   "outputs": [
    {
     "data": {
      "text/plain": [
       "{1, 2, 3, 4, 6}"
      ]
     },
     "execution_count": 62,
     "metadata": {},
     "output_type": "execute_result"
    }
   ],
   "source": [
    "a-b#all elements of 'a' which are not in 'b' are eleminated\n",
    "b-a"
   ]
  },
  {
   "cell_type": "code",
   "execution_count": 64,
   "metadata": {},
   "outputs": [
    {
     "data": {
      "text/plain": [
       "{1, 2, 3, 8, 9}"
      ]
     },
     "execution_count": 64,
     "metadata": {},
     "output_type": "execute_result"
    }
   ],
   "source": [
    "a={1,2,3,4,6,7}\n",
    "b={7,8,9,4,6,7}\n",
    "\n",
    "a^b# elements either in 'a' or in 'b'"
   ]
  },
  {
   "cell_type": "code",
   "execution_count": 67,
   "metadata": {},
   "outputs": [],
   "source": [
    "d=set()"
   ]
  },
  {
   "cell_type": "code",
   "execution_count": 68,
   "metadata": {},
   "outputs": [
    {
     "data": {
      "text/plain": [
       "set"
      ]
     },
     "execution_count": 68,
     "metadata": {},
     "output_type": "execute_result"
    }
   ],
   "source": [
    "type(d)"
   ]
  },
  {
   "cell_type": "code",
   "execution_count": 71,
   "metadata": {},
   "outputs": [
    {
     "data": {
      "text/plain": [
       "{1, 2, 3, 4, 6, 7}"
      ]
     },
     "execution_count": 71,
     "metadata": {},
     "output_type": "execute_result"
    }
   ],
   "source": [
    "a=[1, 2, 3, 4, 6, 7]\n",
    "u=set(a)\n",
    "u"
   ]
  },
  {
   "cell_type": "code",
   "execution_count": null,
   "metadata": {},
   "outputs": [],
   "source": [
    "procedural : C\n",
    "Object oriented:java ,python\n",
    "scripting :php ,python,javascripting\n",
    "functional:python,haskell,scala\n",
    "logic`:prolog,lisp\n"
   ]
  },
  {
   "cell_type": "markdown",
   "metadata": {},
   "source": [
    "#### list comprehensions"
   ]
  },
  {
   "cell_type": "code",
   "execution_count": 73,
   "metadata": {},
   "outputs": [
    {
     "data": {
      "text/plain": [
       "[1, 2, 3, 4, 5, 6, 7, 8, 9, 10]"
      ]
     },
     "execution_count": 73,
     "metadata": {},
     "output_type": "execute_result"
    }
   ],
   "source": [
    "# N natural numbers in a list\n",
    "n=10\n",
    "li=[]\n",
    "for i in range(1,n+1):\n",
    "    li.append(i)\n",
    "li\n"
   ]
  },
  {
   "cell_type": "code",
   "execution_count": 74,
   "metadata": {},
   "outputs": [
    {
     "data": {
      "text/plain": [
       "[1, 2, 3, 4, 5, 6, 7, 8, 9, 10]"
      ]
     },
     "execution_count": 74,
     "metadata": {},
     "output_type": "execute_result"
    }
   ],
   "source": [
    "k=[i for i in range(1,11)]\n",
    "k"
   ]
  },
  {
   "cell_type": "code",
   "execution_count": 75,
   "metadata": {},
   "outputs": [
    {
     "data": {
      "text/plain": [
       "[1, 8, 27, 64, 125, 216, 343, 512, 729, 1000]"
      ]
     },
     "execution_count": 75,
     "metadata": {},
     "output_type": "execute_result"
    }
   ],
   "source": [
    "#apply list comphrehension to store the n natural numbers\n",
    "li=[i**3 for i in range(1,11)]\n",
    "li"
   ]
  },
  {
   "cell_type": "code",
   "execution_count": 76,
   "metadata": {},
   "outputs": [
    {
     "data": {
      "text/plain": [
       "120"
      ]
     },
     "execution_count": 76,
     "metadata": {},
     "output_type": "execute_result"
    }
   ],
   "source": [
    "# function to calculate factorial\n",
    "def factorial(n):\n",
    "    if n==0 or n==1:\n",
    "        return 1\n",
    "    return n*factorial(n-1)\n",
    "factorial(5)"
   ]
  },
  {
   "cell_type": "code",
   "execution_count": 82,
   "metadata": {},
   "outputs": [
    {
     "data": {
      "text/plain": [
       "[1, 2, 6, 24, 120, 720, 5040, 40320, 362880, 3628800]"
      ]
     },
     "execution_count": 82,
     "metadata": {},
     "output_type": "execute_result"
    }
   ],
   "source": [
    "#apply list compherension\n",
    "n=10\n",
    "li=[factorial(i) for i in range(1,n+1)]\n",
    "li"
   ]
  },
  {
   "cell_type": "code",
   "execution_count": 106,
   "metadata": {},
   "outputs": [
    {
     "data": {
      "text/plain": [
       "[1, 3, 6]"
      ]
     },
     "execution_count": 106,
     "metadata": {},
     "output_type": "execute_result"
    }
   ],
   "source": [
    "#store cumulative sum of numbers till n in a list\n",
    "\n",
    "n=3\n",
    "li=[sum(range(i+1)) for i in range(1,n+1) ]\n",
    "li"
   ]
  },
  {
   "cell_type": "code",
   "execution_count": 117,
   "metadata": {},
   "outputs": [
    {
     "data": {
      "text/plain": [
       "[1972, 1976, 1980, 1984, 1988, 1992, 1996, 2000, 2004, 2008, 2012, 2016]"
      ]
     },
     "execution_count": 117,
     "metadata": {},
     "output_type": "execute_result"
    }
   ],
   "source": [
    "# list comphrehension to store leap yeras in agin=ve time period\n",
    "# def leap(s):\n",
    "#     if s%400==0 or s%100!=0 and s%4==0:\n",
    "#         return s\n",
    "    \n",
    "li=[i for i in range(1970,2019) if (i%400==0 or i%100!=0) and i%4==0]\n",
    "li"
   ]
  },
  {
   "cell_type": "code",
   "execution_count": null,
   "metadata": {},
   "outputs": [],
   "source": [
    "li=[1,2,3,4,4,1]\n",
    "p=[]\n"
   ]
  },
  {
   "cell_type": "markdown",
   "metadata": {},
   "source": [
    "### iterators\n",
    "- iterable - strings,lists,tuples,sets,dictionaries\n",
    "convert iterable to iterator->iter()\n"
   ]
  },
  {
   "cell_type": "code",
   "execution_count": 129,
   "metadata": {},
   "outputs": [
    {
     "data": {
      "text/plain": [
       "'p'"
      ]
     },
     "execution_count": 129,
     "metadata": {},
     "output_type": "execute_result"
    }
   ],
   "source": [
    "it=iter('python')\n",
    "next(it)"
   ]
  },
  {
   "cell_type": "markdown",
   "metadata": {},
   "source": [
    "### genrators\n",
    "genrator is function\n"
   ]
  },
  {
   "cell_type": "code",
   "execution_count": 138,
   "metadata": {},
   "outputs": [
    {
     "data": {
      "text/plain": [
       "19683"
      ]
     },
     "execution_count": 138,
     "metadata": {},
     "output_type": "execute_result"
    }
   ],
   "source": [
    "def gen():\n",
    "    n=3\n",
    "    yield n\n",
    "    n=n**3\n",
    "    yield n\n",
    "    n=n**3\n",
    "    yield n\n",
    "a=gen()\n",
    "next(a)\n",
    "next(a)\n",
    "next(a)"
   ]
  },
  {
   "cell_type": "code",
   "execution_count": null,
   "metadata": {},
   "outputs": [],
   "source": []
  },
  {
   "cell_type": "code",
   "execution_count": null,
   "metadata": {},
   "outputs": [],
   "source": []
  }
 ],
 "metadata": {
  "kernelspec": {
   "display_name": "Python 3",
   "language": "python",
   "name": "python3"
  },
  "language_info": {
   "codemirror_mode": {
    "name": "ipython",
    "version": 3
   },
   "file_extension": ".py",
   "mimetype": "text/x-python",
   "name": "python",
   "nbconvert_exporter": "python",
   "pygments_lexer": "ipython3",
   "version": "3.7.3"
  }
 },
 "nbformat": 4,
 "nbformat_minor": 2
}
