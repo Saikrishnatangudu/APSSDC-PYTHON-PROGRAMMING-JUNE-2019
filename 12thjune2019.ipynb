{
 "cells": [
  {
   "cell_type": "markdown",
   "metadata": {},
   "source": [
    "### problem solving and programming\n",
    "##### 12th june 2019\n",
    "###### day objectives"
   ]
  },
  {
   "cell_type": "code",
   "execution_count": null,
   "metadata": {},
   "outputs": [],
   "source": []
  },
  {
   "cell_type": "markdown",
   "metadata": {},
   "source": [
    "#### string slicing"
   ]
  },
  {
   "cell_type": "code",
   "execution_count": null,
   "metadata": {},
   "outputs": [],
   "source": [
    "a1=\"saikrishna\"\n",
    "a1[0]\n",
    "a1[len(a1)-1]\n",
    "a1[-2]\n",
    "a1[1:-1]\n",
    "a1[len(a1)//2]\n",
    "a1[-1::-1]\n",
    "a1[-1:-3:-1]\n",
    "\n",
    "a1[:2]"
   ]
  },
  {
   "cell_type": "markdown",
   "metadata": {},
   "source": [
    "#### functions"
   ]
  },
  {
   "cell_type": "code",
   "execution_count": null,
   "metadata": {},
   "outputs": [],
   "source": [
    "def  plindrome(s):\n",
    "    if s==s[::-1]:\n",
    "        return True\n",
    "    else:\n",
    "        return False\n",
    "plindrome('123321')"
   ]
  },
  {
   "cell_type": "code",
   "execution_count": null,
   "metadata": {},
   "outputs": [],
   "source": [
    "def checkleapyear(year):\n",
    "    if (year % 400 ==0 ) or (year %100!=0) and (year %4==0):\n",
    "        return True\n",
    "    return False\n",
    "checkleapyear(2020)"
   ]
  },
  {
   "cell_type": "code",
   "execution_count": null,
   "metadata": {},
   "outputs": [],
   "source": [
    "#count the nunber of digits in number\n",
    "def digi(h):\n",
    "    k=len(str(h))\n",
    "    return k\n",
    "digi(1234556)\n",
    "    "
   ]
  },
  {
   "cell_type": "code",
   "execution_count": null,
   "metadata": {},
   "outputs": [],
   "source": [
    "#greatest of numbers\n",
    "def great():\n",
    "    a=int(input())\n",
    "    b=int(input())\n",
    "    c=int(input())\n",
    "    d=int(input())\n",
    "    p=[]\n",
    "    p.append(a)\n",
    "    p.append(b)\n",
    "    p.append(c)\n",
    "    p.append(d)\n",
    "    l=max(p)\n",
    "    return(l)\n",
    "great()\n",
    "    "
   ]
  },
  {
   "cell_type": "markdown",
   "metadata": {},
   "source": [
    "### ITERATION\n",
    "* FOR\n",
    "* WHILE"
   ]
  },
  {
   "cell_type": "code",
   "execution_count": 11,
   "metadata": {
    "scrolled": true
   },
   "outputs": [
    {
     "name": "stdout",
     "output_type": "stream",
     "text": [
      "1 2 3 4 5 6 7 8 9 10 "
     ]
    }
   ],
   "source": [
    "#N NATURAL NUMBERS\n",
    "def printnaturalnumbers(n):\n",
    "    for i in range(1,n+1):\n",
    "        print(i,end=\" \")\n",
    "    return\n",
    " \n",
    "printnaturalnumbers(10)"
   ]
  },
  {
   "cell_type": "code",
   "execution_count": null,
   "metadata": {},
   "outputs": [],
   "source": [
    "def printnaturalnumbers(n):\n",
    "    c=1\n",
    "    while c<=n:\n",
    "        print(c)\n",
    "        c=c+1\n",
    "    return"
   ]
  },
  {
   "cell_type": "markdown",
   "metadata": {},
   "source": [
    "### Problem Set\n",
    "* Function to print all numbers divisible by 6 and not a factor of 100 in a given range(lb, ub) inclusive\n",
    "* Function to find the average of cubes of all even numbers in a given range(lb, ub) inclusive\n",
    "* Function to generate the list of factors for a given number\n",
    "* Function to calculate the factorial of a given number\n",
    "* Function to check if a given number is Prime\n",
    "* Function to calculate the average first N Prime numbers\n",
    "* Function to generate all Perfect numbers in a given range"
   ]
  },
  {
   "cell_type": "code",
   "execution_count": 40,
   "metadata": {},
   "outputs": [
    {
     "name": "stdout",
     "output_type": "stream",
     "text": [
      "102 108 114 120 126 132 138 144 150 156 162 168 174 180 186 192 198 "
     ]
    }
   ],
   "source": [
    "#Function to print all numbers divisible by 6 and not a factor of 100 in a given range(lb, ub) inclusive\n",
    "\n",
    "def printallnumbers(l,u):\n",
    "   for i in range(l,u+1):\n",
    "       if (i % 6==0) and (100 % i!=0):\n",
    "          print(i, end=\" \")\n",
    "   return\n",
    "printallnumbers(100,200)"
   ]
  },
  {
   "cell_type": "code",
   "execution_count": null,
   "metadata": {},
   "outputs": [],
   "source": [
    "#Function to find the average of cubes of all even numbers in a given range(lb, ub) inclusive\n",
    "def printcubesnumbers(lb,ub):\n",
    "   count=0\n",
    "   sum=0\n",
    "   for i in range(lb,ub+1):\n",
    "       if i%2==0:\n",
    "           #print(i)\n",
    "           k=i**3\n",
    "           #print(k)\n",
    "           count=count+1\n",
    "           sum=sum+k\n",
    "           #print(k)\n",
    "           #print(sum)\n",
    "           #print(count)\n",
    "   p=sum/count\n",
    "   return p\n",
    "printcubesnumbers(1,10)"
   ]
  },
  {
   "cell_type": "code",
   "execution_count": null,
   "metadata": {},
   "outputs": [],
   "source": [
    "#Function to generate the list of factors for a given number\n",
    "def printfactors(n):\n",
    "   for i in range(1,n+1):\n",
    "       if n%i==0:\n",
    "           print(i)\n",
    "   return\n",
    "printfactors(122)"
   ]
  },
  {
   "cell_type": "code",
   "execution_count": 41,
   "metadata": {},
   "outputs": [
    {
     "name": "stdout",
     "output_type": "stream",
     "text": [
      "enter 1st no  : 5\n"
     ]
    },
    {
     "data": {
      "text/plain": [
       "120"
      ]
     },
     "execution_count": 41,
     "metadata": {},
     "output_type": "execute_result"
    }
   ],
   "source": [
    "#Function to calculate the factorial of a given number\n",
    "def fact():\n",
    "    s=1\n",
    "    l=int(input('enter number : '))\n",
    "    for i in range(1,l+1):\n",
    "        s=s*i\n",
    "    return s\n",
    "fact()"
   ]
  },
  {
   "cell_type": "code",
   "execution_count": 44,
   "metadata": {},
   "outputs": [
    {
     "name": "stdout",
     "output_type": "stream",
     "text": [
      "enter 1st no  : 4\n"
     ]
    },
    {
     "data": {
      "text/plain": [
       "True"
      ]
     },
     "execution_count": 44,
     "metadata": {},
     "output_type": "execute_result"
    }
   ],
   "source": [
    "#Function to check if a given number is Prime\n",
    "\n"
   ]
  },
  {
   "cell_type": "code",
   "execution_count": 46,
   "metadata": {},
   "outputs": [
    {
     "name": "stdout",
     "output_type": "stream",
     "text": [
      "enter 1st no  : 1\n",
      "enter 2nd no  : 10\n"
     ]
    },
    {
     "data": {
      "text/plain": [
       "4.25"
      ]
     },
     "execution_count": 46,
     "metadata": {},
     "output_type": "execute_result"
    }
   ],
   "source": [
    "#Function to calculate the average first N Prime numbers\n",
    "def primeaverage():\n",
    "    \n",
    "    l=int(input('enter 1st no  : '))\n",
    "    u=int(input('enter 2nd no  : '))\n",
    "    sum=0\n",
    "    count=0\n",
    "    for num in range(l,u + 1):\n",
    "        if num > 1:\n",
    "           for i in range(2,num):\n",
    "              #print(i)\n",
    "              if (num % i) == 0:\n",
    "                   break\n",
    "           else:\n",
    "            #print(num)\n",
    "            sum=sum+num\n",
    "            count=count+1\n",
    "    return (sum/count)\n",
    "    \n",
    "primeaverage()"
   ]
  },
  {
   "cell_type": "code",
   "execution_count": 47,
   "metadata": {},
   "outputs": [
    {
     "name": "stdout",
     "output_type": "stream",
     "text": [
      "6 28 496 "
     ]
    }
   ],
   "source": [
    "#Function to generate all Perfect numbers in a given range\n",
    "\n",
    "def factors_sum(i):\n",
    "   sum=0\n",
    "   for j in range(1,i):\n",
    "       if i%j==0:\n",
    "           sum+=j\n",
    "   return sum\n",
    "def perfect(lb,ub):\n",
    "   sum=0\n",
    "   for i in range(lb,ub):\n",
    "       x=factors_sum(i)\n",
    "       if i==x:\n",
    "           print(i,end=\" \")\n",
    "   return\n",
    "perfect(1,1500)"
   ]
  },
  {
   "cell_type": "code",
   "execution_count": null,
   "metadata": {},
   "outputs": [],
   "source": []
  },
  {
   "cell_type": "markdown",
   "metadata": {},
   "source": [
    "##### Advanced Problem Set( Optional )\n",
    "* Function to calculate average of all factorials in a given range\n",
    "* Function to generate N odd armstrong numbers \n",
    "* Function to generate Multiplication table for a number in a given range\n",
    "    10 in the range(100, 102) inclusive\n",
    "    10 x 100 = 1000\n",
    "    10 x 101 = 1010\n",
    "    10 x 102 = 1020"
   ]
  },
  {
   "cell_type": "code",
   "execution_count": 39,
   "metadata": {},
   "outputs": [
    {
     "name": "stdout",
     "output_type": "stream",
     "text": [
      "enter 1st no  : 1\n",
      "enter 2nd no  : 5\n"
     ]
    },
    {
     "data": {
      "text/plain": [
       "30.6"
      ]
     },
     "execution_count": 39,
     "metadata": {},
     "output_type": "execute_result"
    }
   ],
   "source": [
    "#Function to calculate average of all factorials in a given range\n",
    "def factaverage():\n",
    "    s=1\n",
    "    sum=0\n",
    "    l=int(input('enter 1st no  : '))\n",
    "    u=int(input('enter 2nd no  : '))\n",
    "    for i in range(1,u+1):\n",
    "        s=s*i\n",
    "        #print(s)\n",
    "        sum=sum+s\n",
    "    return sum/u\n",
    "factaverage()"
   ]
  },
  {
   "cell_type": "code",
   "execution_count": 52,
   "metadata": {},
   "outputs": [
    {
     "name": "stdout",
     "output_type": "stream",
     "text": [
      "enter 1st no  : 1\n",
      "enter 2nd no  : 100\n"
     ]
    },
    {
     "data": {
      "text/plain": [
       "0"
      ]
     },
     "execution_count": 52,
     "metadata": {},
     "output_type": "execute_result"
    }
   ],
   "source": [
    "#Function to generate N odd armstrong numbers\n",
    "def oddarmstrong():\n",
    "    l=int(input('enter 1st no  : '))\n",
    "    u=int(input('enter 2nd no  : '))\n",
    "    sum=0\n",
    "    \n",
    "    for i in range(l,u+1):\n",
    "        t=i\n",
    "        sum=0\n",
    "        o=len(str(i))\n",
    "        while t<0:\n",
    "            k=t%10\n",
    "            sum=sum+K**o\n",
    "            t//=10\n",
    "    if i==sum:\n",
    "        print (sum)\n",
    "    return sum\n",
    "\n",
    "oddarmstrong()\n",
    "            \n",
    "    \n",
    "    \n",
    "    "
   ]
  },
  {
   "cell_type": "code",
   "execution_count": null,
   "metadata": {},
   "outputs": [],
   "source": []
  },
  {
   "cell_type": "code",
   "execution_count": null,
   "metadata": {},
   "outputs": [],
   "source": []
  }
 ],
 "metadata": {
  "kernelspec": {
   "display_name": "Python 3",
   "language": "python",
   "name": "python3"
  },
  "language_info": {
   "codemirror_mode": {
    "name": "ipython",
    "version": 3
   },
   "file_extension": ".py",
   "mimetype": "text/x-python",
   "name": "python",
   "nbconvert_exporter": "python",
   "pygments_lexer": "ipython3",
   "version": "3.7.3"
  }
 },
 "nbformat": 4,
 "nbformat_minor": 2
}
