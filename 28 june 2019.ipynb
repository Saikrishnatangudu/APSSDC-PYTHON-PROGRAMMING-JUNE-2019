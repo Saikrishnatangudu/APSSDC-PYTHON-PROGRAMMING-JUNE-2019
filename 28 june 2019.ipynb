{
 "cells": [
  {
   "cell_type": "markdown",
   "metadata": {},
   "source": [
    "### Day  objectives\n",
    "- map\n",
    "- lambda\n",
    "- filter\n",
    "- use cases -File /Data Encrypction"
   ]
  },
  {
   "cell_type": "markdown",
   "metadata": {},
   "source": [
    "### Map\n",
    "\n",
    "mapping -entity with  function\n",
    "\n",
    "map(function,iterable)\n",
    "y=f(x)\n",
    "f(x)=x^2\n",
    "x      y\n",
    "1      1\n",
    "2      4\n",
    "3      9\n",
    "4      16\n"
   ]
  },
  {
   "cell_type": "code",
   "execution_count": 4,
   "metadata": {},
   "outputs": [
    {
     "data": {
      "text/plain": [
       "16"
      ]
     },
     "execution_count": 4,
     "metadata": {},
     "output_type": "execute_result"
    }
   ],
   "source": [
    "def powern(a,n):\n",
    "    r=1\n",
    "    for i in range(0,n):\n",
    "        r*=a\n",
    "    return r\n",
    "powern(2,10)\n",
    "def recursivepower(a,n):\n",
    "    if n==0:\n",
    "        return 1\n",
    "    else:\n",
    "        return a* recursivepower(a,n-1)\n",
    "recursivepower(2,4)\n",
    "        "
   ]
  },
  {
   "cell_type": "code",
   "execution_count": 2,
   "metadata": {},
   "outputs": [
    {
     "data": {
      "text/plain": [
       "['1', '8', '27', '64', '125', '216', '343']"
      ]
     },
     "execution_count": 2,
     "metadata": {},
     "output_type": "execute_result"
    }
   ],
   "source": [
    "def cube(n):\n",
    "    return n**3\n",
    "li =[1,2,3,4,5,6,7]\n",
    "#set(map(cube,li))# to print map objects\n",
    "k=list(map(cube,li))\n",
    "list(map(str,k))\n",
    "[cube(i) for i in li] #list comphrehension"
   ]
  },
  {
   "cell_type": "markdown",
   "metadata": {},
   "source": [
    "### Filter\n",
    "used to check boolean values\n",
    "y is a subset of x i.e, elements are added to y set based on given condition\n",
    "x   y\n",
    "1    \n",
    "2   2\n",
    "3   3       # - for prime number logic explination \n",
    "4    \n",
    "5   5"
   ]
  },
  {
   "cell_type": "code",
   "execution_count": 6,
   "metadata": {},
   "outputs": [
    {
     "data": {
      "text/plain": [
       "[1, 2, 3]"
      ]
     },
     "execution_count": 6,
     "metadata": {},
     "output_type": "execute_result"
    }
   ],
   "source": [
    "li=[1,2,3,'a','bb','ccc']\n",
    "def isDigit(c):\n",
    "    c=str(c)\n",
    "    if c.isdigit():\n",
    "        return True #return 1\n",
    "    return False #return 0\n",
    "#isDigit(\"1\")\n",
    "list(filter(isDigit,li))\n"
   ]
  },
  {
   "cell_type": "code",
   "execution_count": null,
   "metadata": {},
   "outputs": [],
   "source": []
  },
  {
   "cell_type": "code",
   "execution_count": 21,
   "metadata": {},
   "outputs": [
    {
     "name": "stdout",
     "output_type": "stream",
     "text": [
      "[503, 509, 521, 523, 541, 547, 557, 563, 569, 571, 577, 587, 593, 599]\n"
     ]
    },
    {
     "data": {
      "text/plain": [
       "[503, 509, 521, 523, 541, 547, 557, 563, 569, 571, 577, 587, 593, 599]"
      ]
     },
     "execution_count": 21,
     "metadata": {},
     "output_type": "execute_result"
    }
   ],
   "source": [
    "# identify all primes in a range\n",
    "def isprime(n):\n",
    "\n",
    "        count= 0\n",
    "        if n<2:\n",
    "            return 0\n",
    "        for i in range(1,n+1):\n",
    "            if n%i == 0:\n",
    "                count=count+1\n",
    "        if count == 2:\n",
    "            return 1\n",
    "        else:\n",
    "            return 0\n",
    "isprime(7)\n",
    "#li=[1,2,3,4,4,5,5,6,7,7,-4,8,8,8,9,11,-1,-3]\n",
    "#list(filter(isprime,li))\n",
    "lb=500\n",
    "ub=600\n",
    "print(list(filter(isprime,range(lb,ub))))\n",
    "primelist=[i for i in range(lb,ub+1) if isprime(i)]  #list comphrehension\n",
    "primelist\n",
    "# map fails because it doesn't apply for conditional check"
   ]
  },
  {
   "cell_type": "code",
   "execution_count": null,
   "metadata": {},
   "outputs": [],
   "source": []
  },
  {
   "cell_type": "markdown",
   "metadata": {},
   "source": [
    "### Lambda\n",
    "Anonymous functions\n",
    "\n",
    "can be embeded into list comphrension ,maps ,functions,filters"
   ]
  },
  {
   "cell_type": "code",
   "execution_count": 26,
   "metadata": {},
   "outputs": [
    {
     "data": {
      "text/plain": [
       "[1, 3, 5, 5, 5, 77, 3, 3, 3, 3, 55, 5]"
      ]
     },
     "execution_count": 26,
     "metadata": {},
     "output_type": "execute_result"
    }
   ],
   "source": [
    "a=lambda x:  x**3\n",
    "a(3)\n",
    "list(map(lambda x: x**3 ,[1,2,3,4,5,6,7,7,8,9]))\n",
    "list(filter(lambda x:(x%2==0) ,[1,2,3,4,5,5,5,6,6,77,4,3,3,3,3,4,4,55,5,]))#even numbers\n",
    "list(filter(lambda x:(x%2!=0) ,[1,2,3,4,5,5,5,6,6,77,4,3,3,3,3,4,4,55,5,]))# odd numbers"
   ]
  },
  {
   "cell_type": "code",
   "execution_count": 4,
   "metadata": {},
   "outputs": [
    {
     "name": "stdout",
     "output_type": "stream",
     "text": [
      "[8.5, 20.0, 7.5, 19.5, 17.5, 12.0, 14.5, 10.5, 18.0, 20.5]\n"
     ]
    },
    {
     "data": {
      "text/plain": [
       "[8.5, 7.5]"
      ]
     },
     "execution_count": 4,
     "metadata": {},
     "output_type": "execute_result"
    }
   ],
   "source": [
    "from  random import randint \n",
    "int1=[randint(0,25) for i in range(10)]\n",
    "int2=[randint(0,25) for i in range(10)]\n",
    "\n",
    "averageinternalmarks = list(map(lambda x,y: (x+y)/2 ,int1,int2))\n",
    "print(averageinternalmarks)\n",
    "failedstudents=list(filter(lambda u:(u<10),averageinternalmarks))\n",
    "failedstudents"
   ]
  },
  {
   "cell_type": "markdown",
   "metadata": {},
   "source": [
    "### Applying functional programming to the marks analysis"
   ]
  },
  {
   "cell_type": "code",
   "execution_count": 5,
   "metadata": {},
   "outputs": [],
   "source": [
    "#genrate marks data\n",
    "def generatemarks(n,lb,ub):\n",
    "    filename='datafiles/marks.txt'\n",
    "    with open(filename,'w')as f:\n",
    "        for i in range(n):\n",
    "            marks=randint(lb,ub)\n",
    "            f.write(str(marks)+'\\n')\n",
    "    return\n",
    "generatemarks(300,0,100)"
   ]
  },
  {
   "cell_type": "code",
   "execution_count": 13,
   "metadata": {},
   "outputs": [
    {
     "data": {
      "text/plain": [
       "49"
      ]
     },
     "execution_count": 13,
     "metadata": {},
     "output_type": "execute_result"
    }
   ],
   "source": [
    "def readmarkslist(filepath):\n",
    "    with open(filepath,'r') as f:\n",
    "        filedata=f.read().split()\n",
    "    return list(map(int,filedata))\n",
    "\n",
    "def classaverage(filepath):\n",
    "    with open(filepath,'r') as f:\n",
    "        filedata=f.read().split()\n",
    "        #markslist=re.split('\\n',filedata)\n",
    "        markslist=list(map(int,filedata))\n",
    "    return sum(markslist)//len(markslist)\n",
    "filepath=\"datafiles/marks.txt\"\n",
    "classaverage(filepath)"
   ]
  },
  {
   "cell_type": "code",
   "execution_count": 14,
   "metadata": {},
   "outputs": [
    {
     "data": {
      "text/plain": [
       "40.0"
      ]
     },
     "execution_count": 14,
     "metadata": {},
     "output_type": "execute_result"
    }
   ],
   "source": [
    "def percentagefail(filepath):\n",
    "    markslist=readmarkslist(filepath)\n",
    "    failedcount=len(list(filter(lambda marks:(marks<40),markslist)))\n",
    "    return (failedcount/len(markslist))*100\n",
    "percentagefail(\"datafiles/marks.txt\")"
   ]
  },
  {
   "cell_type": "code",
   "execution_count": 16,
   "metadata": {},
   "outputs": [
    {
     "data": {
      "text/plain": [
       "60.0"
      ]
     },
     "execution_count": 16,
     "metadata": {},
     "output_type": "execute_result"
    }
   ],
   "source": [
    "def percentagepass(filepath):\n",
    "    return 100-percentagefail(filepath)\n",
    "percentagepass('datafiles/marks.txt')"
   ]
  },
  {
   "cell_type": "code",
   "execution_count": 17,
   "metadata": {},
   "outputs": [
    {
     "data": {
      "text/plain": [
       "27.666666666666668"
      ]
     },
     "execution_count": 17,
     "metadata": {},
     "output_type": "execute_result"
    }
   ],
   "source": [
    "def percentagedist(filepath):\n",
    "    markslist=readmarkslist(filepath)\n",
    "    distcount=len(list(filter(lambda marks:(marks>70),markslist)))\n",
    "    return (distcount/len(markslist))*100\n",
    "percentagedist(\"datafiles/marks.txt\")"
   ]
  },
  {
   "cell_type": "code",
   "execution_count": 20,
   "metadata": {},
   "outputs": [
    {
     "data": {
      "text/plain": [
       "[4, 100]"
      ]
     },
     "execution_count": 20,
     "metadata": {},
     "output_type": "execute_result"
    }
   ],
   "source": [
    "def highestfreq(filepath):\n",
    "    markslist=readmarkslist(filepath)\n",
    "    return [markslist.count(max(markslist)),max(markslist)]\n",
    "highestfreq('datafiles/marks.txt')"
   ]
  },
  {
   "cell_type": "code",
   "execution_count": null,
   "metadata": {},
   "outputs": [],
   "source": []
  },
  {
   "cell_type": "markdown",
   "metadata": {},
   "source": [
    "### Data Encrypction\n",
    "\n",
    "key - mapping of characters with replaced\n"
   ]
  },
  {
   "cell_type": "code",
   "execution_count": 23,
   "metadata": {},
   "outputs": [],
   "source": [
    "# function to genrate key for number emcryption\n",
    "keypath='datafiles/key.txt'\n",
    "def generate(keypath):\n",
    "    with open (keypath,'w') as f:\n",
    "        for i in range(10):\n",
    "            if i<6:\n",
    "                f.write(str(i)+' '+str(i+4)+'\\n')\n",
    "            else:\n",
    "                f.write(str(i)+' '+str(i-6)+'\\n')\n",
    "    return\n",
    "generate(keypath)"
   ]
  },
  {
   "cell_type": "code",
   "execution_count": null,
   "metadata": {},
   "outputs": [],
   "source": []
  },
  {
   "cell_type": "code",
   "execution_count": null,
   "metadata": {},
   "outputs": [],
   "source": [
    "#function to encrypt a data file\n",
    "def dictionarykeyfilr(keyfile):\n",
    "    with open(keyfile,'r') as f:\n",
    "        for line in f:\n",
    "            line=f.read().split()\n",
    "            key[line[0]]=line[1]\n",
    "    return key\n",
    "\n",
    "\n",
    "def encryptmarksdata(datafile,keyfile):\n",
    "    # construct a dictionary for key data\n",
    "    \n",
    "    "
   ]
  },
  {
   "cell_type": "code",
   "execution_count": null,
   "metadata": {},
   "outputs": [],
   "source": []
  },
  {
   "cell_type": "code",
   "execution_count": null,
   "metadata": {},
   "outputs": [],
   "source": []
  },
  {
   "cell_type": "code",
   "execution_count": null,
   "metadata": {},
   "outputs": [],
   "source": []
  },
  {
   "cell_type": "code",
   "execution_count": null,
   "metadata": {},
   "outputs": [],
   "source": []
  },
  {
   "cell_type": "code",
   "execution_count": null,
   "metadata": {},
   "outputs": [],
   "source": []
  }
 ],
 "metadata": {
  "kernelspec": {
   "display_name": "Python 3",
   "language": "python",
   "name": "python3"
  },
  "language_info": {
   "codemirror_mode": {
    "name": "ipython",
    "version": 3
   },
   "file_extension": ".py",
   "mimetype": "text/x-python",
   "name": "python",
   "nbconvert_exporter": "python",
   "pygments_lexer": "ipython3",
   "version": "3.7.3"
  }
 },
 "nbformat": 4,
 "nbformat_minor": 2
}
